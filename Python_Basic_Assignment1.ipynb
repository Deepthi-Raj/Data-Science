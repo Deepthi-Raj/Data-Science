{
 "cells": [
  {
   "cell_type": "code",
   "execution_count": null,
   "metadata": {},
   "outputs": [],
   "source": [
    "1.\n",
    "-> * - expression\n",
    "-> 'hello'- value\n",
    "-> -87.9 - value\n",
    "-> - - expression\n",
    "-> / - expression\n",
    "-> + - expression\n",
    "\n",
    "2.\n",
    "String is a datatype and variables are used to store a value\n",
    "String is given in \"\" or '' . Variables are assigned using = operator\n",
    "\n",
    "name=\"deepthi\"\n",
    "\n",
    "Here name is the variable and type(name) is string\n",
    "\n",
    "3.\n",
    "Numeric datatype - Contains numbers. It can be integer, float etc.\n",
    "num = 5\n",
    "String - Sequence of characters given in '' or \"\". They are immutable\n",
    "name=\"deepthi\"\n",
    "List - Collection of data given in [] separated by commas. Data inside could be homogenous or heterogenous. It can contain duplicate data as well.\n",
    "myList = [1,2,3]\n",
    "\n",
    "4.\n",
    "Expressions are made up of variables, operators and values. Expressions evaluate the result and store in a variable assigned for that expression.\n",
    "\n",
    "5.\n",
    "Statement is some instruction which is given to just execute. Expression needs to be evaluated\n",
    "a=5 is a statement and a=6+7 is an expression\n",
    "\n",
    "6.\n",
    "22\n",
    "\n",
    "7. \n",
    "Both will return 'spamspamspam'\n",
    "\n",
    "8.\n",
    "A variable name should start with either an alphabet or underscore.\n",
    "\n",
    "9.\n",
    "int(),float() and str()\n",
    "\n",
    "10.\n",
    "We cannot concatenate string and integer. First convert integer to string using str() function and then concatenate.\n",
    "'I have eaten '+str(99)+' burritos' #"
   ]
  },
  {
   "cell_type": "code",
   "execution_count": null,
   "metadata": {},
   "outputs": [],
   "source": []
  }
 ],
 "metadata": {
  "kernelspec": {
   "display_name": "Python 3",
   "language": "python",
   "name": "python3"
  },
  "language_info": {
   "codemirror_mode": {
    "name": "ipython",
    "version": 3
   },
   "file_extension": ".py",
   "mimetype": "text/x-python",
   "name": "python",
   "nbconvert_exporter": "python",
   "pygments_lexer": "ipython3",
   "version": "3.8.5"
  }
 },
 "nbformat": 4,
 "nbformat_minor": 4
}
